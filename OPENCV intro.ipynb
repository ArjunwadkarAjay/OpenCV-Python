{
 "cells": [
  {
   "cell_type": "markdown",
   "metadata": {},
   "source": [
    "# Open CV python tutorial"
   ]
  },
  {
   "cell_type": "code",
   "execution_count": 1,
   "metadata": {},
   "outputs": [],
   "source": [
    "import cv2\n",
    "import numpy as np"
   ]
  },
  {
   "cell_type": "code",
   "execution_count": null,
   "metadata": {},
   "outputs": [],
   "source": [
    "#read write show images\n",
    "img=cv2.imread(\"125501_sm.jpg\",1) #1 for color img,0 for gray scale,-1 for as it is including alpha channel"
   ]
  },
  {
   "cell_type": "code",
   "execution_count": null,
   "metadata": {},
   "outputs": [],
   "source": [
    "print(img)"
   ]
  },
  {
   "cell_type": "code",
   "execution_count": null,
   "metadata": {},
   "outputs": [],
   "source": [
    "#show img\n",
    "cv2.imshow(\"scenery\",img)\n",
    "k=cv2.waitKey(0)\n",
    "if k==27:\n",
    "    cv2.destroyAllWindows()\n",
    "elif k==ord('s'):\n",
    "    cv2.imwrite(\"Modifiedimg.png\",img)\n",
    "    cv2.destroyAllWindows()\n"
   ]
  },
  {
   "cell_type": "code",
   "execution_count": null,
   "metadata": {},
   "outputs": [],
   "source": [
    "#print img\n",
    "cv2.imwrite(\"Modifiedimg.png\",img)"
   ]
  },
  {
   "cell_type": "markdown",
   "metadata": {},
   "source": [
    "# Consider the error here for writing the video"
   ]
  },
  {
   "cell_type": "code",
   "execution_count": null,
   "metadata": {},
   "outputs": [],
   "source": [
    "cap=cv2.VideoCapture(0)\n",
    "fourcc=cv2.VideoWriter_fourcc(*'mp4v')\n",
    "cap.set(3,1208)\n",
    "cap.set(4,1208)\n",
    "out=cv2.VideoWriter('output.mp4',fourcc,20.0,(cv2.CAP_PROP_FRAME_WIDTH,cv2.CAP_PROP_FRAME_HEIGHT))\n",
    "print(cap.get(cv2.CAP_PROP_FRAME_WIDTH))#few props for the prop of cap\n",
    "while True:# in place of true we can use cv2.isopened() gives false if the image is not prsent\n",
    "    ret,frame=cap.read()\n",
    "    gray=cv2.cvtColor(frame,cv2.COLOR_BGR2GRAY)#convert the color\n",
    "    out.write(frame)\n",
    "    cv2.imshow('frame',gray)\n",
    "    if cv2.waitKey(1)&0xFF==ord('q'):\n",
    "        break\n",
    "cap.release()\n",
    "out.release()\n",
    "cv2.destroyAllWindows()"
   ]
  },
  {
   "cell_type": "code",
   "execution_count": null,
   "metadata": {},
   "outputs": [],
   "source": [
    "import numpy as np\n",
    "img=np.zeros([512,512,3],np.uint8)"
   ]
  },
  {
   "cell_type": "code",
   "execution_count": null,
   "metadata": {},
   "outputs": [],
   "source": [
    "img=cv2.line(img,(10,10),(450,500),(225,0,0),2)\n",
    "img=cv2.arrowedLine(img,(0,450),(450,500),(225,0,0),2)\n",
    "img=cv2.rectangle(img,(100,100),(450,500),(0,0,255),10)\n",
    "img=cv2.circle(img,(200,200),50,(0,255,0),10)\n",
    "font=cv2.FONT_HERSHEY_SIMPLEX\n",
    "img=cv2.putText(img,'OPEN CV',(0,500),font,4,(0,255,255),10,cv2.LINE_AA)\n",
    "\"\"\"\n",
    "x1,y1---\n",
    "------x2,y2\n",
    "\"\"\"\n"
   ]
  },
  {
   "cell_type": "code",
   "execution_count": null,
   "metadata": {},
   "outputs": [],
   "source": [
    "cv2.imshow(\"image\",img)\n",
    "cv2.waitKey(0)\n",
    "cv2.destroyAllWindows()"
   ]
  },
  {
   "cell_type": "code",
   "execution_count": null,
   "metadata": {},
   "outputs": [],
   "source": [
    "import datetime\n",
    "cap=cv2.VideoCapture(0)\n",
    "\n",
    "cap.set(3,1208)\n",
    "cap.set(4,1208)\n",
    "\n",
    "print(cap.get(cv2.CAP_PROP_FRAME_WIDTH))#few props for the prop of cap\n",
    "while True:# in place of true we can use cv2.isopened() gives false if the image is not prsent\n",
    "    ret,frame=cap.read()\n",
    "    font=cv2.FONT_HERSHEY_SIMPLEX\n",
    "    text='width'+str(cap.get(3))+' Height:'+str(cap.get(4))\n",
    "    frame=cv2.putText(frame,str(datetime.datetime.now()),(0,50),font,1,(0,255,255),1,cv2.LINE_AA)\n",
    "\n",
    "    cv2.imshow('frame',frame)\n",
    "    if cv2.waitKey(1)&0xFF==ord('q'):\n",
    "        break\n",
    "cap.release()\n",
    "\n",
    "cv2.destroyAllWindows()"
   ]
  },
  {
   "cell_type": "code",
   "execution_count": null,
   "metadata": {},
   "outputs": [],
   "source": [
    "events=[i for i in dir(cv2) if 'EVENT' in i]\n",
    "print(events)"
   ]
  },
  {
   "cell_type": "code",
   "execution_count": null,
   "metadata": {},
   "outputs": [],
   "source": [
    "#call back function for mouse event\n",
    "def click_event(event,x,y,flags,param):\n",
    "    if event==cv2.EVENT_LBUTTONDOWN:\n",
    "        strxy=str(x)+','+str(y)\n",
    "        font=cv2.FONT_HERSHEY_SIMPLEX\n",
    "        cv2.putText(img,strxy,(x,y),font,0.5,(0,255,255),1,cv2.LINE_AA)\n",
    "        cv2.imshow('image',img)\n",
    "    if event==cv2.EVENT_RBUTTONDOWN:\n",
    "        blue=img[y,x,0]\n",
    "        green=img[y,x,1]\n",
    "        red=img[y,x,2]\n",
    "        strxy=str(blue)+','+str(green)+','+str(red)\n",
    "        font=cv2.FONT_HERSHEY_SIMPLEX\n",
    "        cv2.putText(img,strxy,(x,y),font,0.5,(0,255,255),1,cv2.LINE_AA)\n",
    "        cv2.imshow('image',img)\n",
    "        \n",
    "img=np.zeros([512,512,3],np.uint8)\n",
    "img=cv2.imread(\"125501_sm.jpg\",1)\n",
    "cv2.imshow('image',img)\n",
    "\n",
    "cv2.setMouseCallback('image',click_event)\n",
    "cv2.waitKey(0)\n",
    "cv2.destroyAllWindows()"
   ]
  },
  {
   "cell_type": "code",
   "execution_count": null,
   "metadata": {},
   "outputs": [],
   "source": [
    "#call back function for mouse event\n",
    "def click_event(event,x,y,flags,param):\n",
    "    if event==cv2.EVENT_LBUTTONDOWN:\n",
    "        blue=img[x,y,0]\n",
    "        green=img[x,y,1]\n",
    "        red=img[x,y,2]\n",
    "        cv2.circle(img,(x,y),3,(0,0,255),-1)\n",
    "        mycolorimg=np.zeros((512,512,3),np.uint8)\n",
    "        mycolorimg[:]=(blue,green,red)\n",
    "        cv2.imshow('color',mycolorimg)\n",
    "img=np.zeros([512,512,3],np.uint8)\n",
    "img=cv2.imread(\"125501_sm.jpg\",1)\n",
    "cv2.imshow('image',img)\n",
    "\n",
    "cv2.setMouseCallback('image',click_event)\n",
    "cv2.waitKey(0)\n",
    "cv2.destroyAllWindows()"
   ]
  },
  {
   "cell_type": "code",
   "execution_count": 3,
   "metadata": {
    "scrolled": true
   },
   "outputs": [
    {
     "name": "stdout",
     "output_type": "stream",
     "text": [
      "(768, 1024, 3)\n",
      "2359296\n",
      "uint8\n",
      "(20, 80, 3)\n"
     ]
    }
   ],
   "source": [
    "img=cv2.imread(\"125501_sm.jpg\",1) #1 for color img,0 for gray scale,-1 for as it is including alpha channel\n",
    "img2=cv2.imread(\"08_Spaghetti_Can-You-Identify-Everyday-Objects-By-These-Close-Up-Pictures-_143834671_Hanzi-mor-760x506.jpg\",1)\n",
    "#img2.resize(768,1024,3)\n",
    "print(img.shape)\n",
    "print(img.size)\n",
    "print(img.dtype)\n",
    "b,g,r=cv2.split(img)#get seperate values of the blue,green,red channel\n",
    "img1=cv2.merge((b,g,r))#combine the bgr channels\n",
    "#ROI region of interest \n",
    "building=img[413:433,318:398]\n",
    "print(building.shape)\n",
    "img[115:135,150:230]=building\n",
    "cv2.imshow('image',img)\n",
    "cv2.waitKey(0)\n",
    "img2=cv2.resize(img2,(512,512))\n",
    "img1=cv2.resize(img1,(512,512))\n",
    "dst=cv2.add(img1,img2)\n",
    "dst2=cv2.addWeighted(img1,0.45,img2,0.5,0.5)\n",
    "cv2.imshow('image1',dst2)\n",
    "cv2.waitKey(0)\n",
    "cv2.destroyAllWindows()"
   ]
  },
  {
   "cell_type": "code",
   "execution_count": 23,
   "metadata": {},
   "outputs": [],
   "source": [
    "img01=np.zeros((250,500),np.uint8)\n",
    "img01=cv2.rectangle(img01,(200,0),(300,100),(255,255,255),-1)\n",
    "img=np.zeros((250,500),np.uint8)\n",
    "img=cv2.rectangle(img,(0,0),(260,260),(255,255,255),-1)\n",
    "bitAnd=cv2.bitwise_and(img01,img)\n",
    "bitOr=cv2.bitwise_or(img01,img)\n",
    "bitXor=cv2.bitwise_xor(img01,img)\n",
    "cv2.imshow('image1',img01)\n",
    "cv2.imshow('image',img)\n",
    "#cv2.imshow(\"AND\",bitAnd)\n",
    "#cv2.imshow(\"OR \",bitOr)\n",
    "#cv2.imshow(\"XOR \",bitXor)\n",
    "#cv2.imshow(\"OR \",bitOr)\n",
    "cv2.imshow(\"NOT1 \",cv2.bitwise_not(img01))\n",
    "cv2.imshow(\"NOT \",cv2.bitwise_not(img))\n",
    "cv2.waitKey(0)\n",
    "cv2.destroyAllWindows()"
   ]
  },
  {
   "cell_type": "code",
   "execution_count": 9,
   "metadata": {},
   "outputs": [],
   "source": [
    "img=np.zeros((300,512,3),np.uint8)\n",
    "def nothing(x):\n",
    "    pass  \n",
    "cv2.namedWindow('image')\n",
    "cv2.createTrackbar('B','image',0,255,nothing)\n",
    "cv2.createTrackbar('G','image',0,255,nothing)\n",
    "cv2.createTrackbar('R','image',0,255,nothing)\n",
    "cv2.createTrackbar('0 : OFF \\n1 : ON','image',0,1,nothing)\n",
    "while(1):\n",
    "    cv2.imshow('image',img)\n",
    "    k=cv2.waitKey(1)& 0xFF\n",
    "    if k==27:\n",
    "        break\n",
    "    b=cv2.getTrackbarPos('B','image')\n",
    "    g=cv2.getTrackbarPos('G','image')\n",
    "    r=cv2.getTrackbarPos('R','image')\n",
    "    s=cv2.getTrackbarPos('0 : OFF \\n1 : ON','image')\n",
    "    if s==0:\n",
    "        img[:]=0\n",
    "    else:\n",
    "        img[:]=[b,g,r]\n",
    "   \n",
    "\n",
    "cv2.destroyAllWindows()"
   ]
  },
  {
   "cell_type": "code",
   "execution_count": 8,
   "metadata": {},
   "outputs": [],
   "source": [
    "\n",
    "def nothing(x):\n",
    "    pass  \n",
    "cv2.namedWindow('image')\n",
    "cv2.createTrackbar('CP','image',0,255,nothing)\n",
    "cv2.createTrackbar('0 : OFF \\n1 : ON','image',0,1,nothing)\n",
    "while(1):\n",
    "    img=cv2.imread(\"125501_sm.jpg\")\n",
    "    #cv2.imshow('image',img)\n",
    "    b=cv2.getTrackbarPos('CP','image')\n",
    "    font=cv2.FONT_HERSHEY_SIMPLEX\n",
    "    cv2.putText(img,str(b),(50,150),font,4,(0,0,255))\n",
    "    k=cv2.waitKey(1)& 0xFF\n",
    "    if k==27:\n",
    "        break\n",
    "    s=cv2.getTrackbarPos('0 : COLOR \\n 1 :Gray','image')\n",
    "    if s==0:\n",
    "        pass\n",
    "    elif s==1:\n",
    "        img=cv2.cvtColor(img,cv2.COLOR_BGR2GRAY)\n",
    "    else:\n",
    "        pass\n",
    "\n",
    "    img=cv2.imshow('image',img)\n",
    "   \n",
    "cv2.destroyAllWindows()"
   ]
  },
  {
   "cell_type": "code",
   "execution_count": null,
   "metadata": {},
   "outputs": [],
   "source": []
  }
 ],
 "metadata": {
  "kernelspec": {
   "display_name": "Python 3",
   "language": "python",
   "name": "python3"
  },
  "language_info": {
   "codemirror_mode": {
    "name": "ipython",
    "version": 3
   },
   "file_extension": ".py",
   "mimetype": "text/x-python",
   "name": "python",
   "nbconvert_exporter": "python",
   "pygments_lexer": "ipython3",
   "version": "3.7.6"
  }
 },
 "nbformat": 4,
 "nbformat_minor": 4
}
